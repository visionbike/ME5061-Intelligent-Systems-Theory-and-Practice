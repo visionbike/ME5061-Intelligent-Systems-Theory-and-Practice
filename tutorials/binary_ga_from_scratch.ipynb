{
 "cells": [
  {
   "cell_type": "markdown",
   "metadata": {
    "collapsed": true
   },
   "source": [
    "# Genetic Algorithm Example"
   ]
  },
  {
   "cell_type": "markdown",
   "metadata": {},
   "source": [
    "## 1. Problem Definition\n",
    "\n",
    "Let consider an equation:\n",
    "\n",
    "$$Y = 15 \\times x - x^2$$\n",
    "\n",
    "Find $x \\in [0, 15] \\in \\mathbb{R}$ such that it maximizes the output $Y$. The problem also is expressed as:\n",
    "\n",
    "$$P = \\max_{x}{Y}$$"
   ]
  },
  {
   "cell_type": "markdown",
   "metadata": {},
   "source": [
    "## 2. Implementation\n",
    "\n",
    "In this example, we will try to implement a Binary-coded Genetic Algorithm from scratch to solve a simple optimization problem.\n",
    "\n"
   ]
  },
  {
   "cell_type": "markdown",
   "metadata": {},
   "source": [
    "We first import the necessary libraries"
   ]
  },
  {
   "cell_type": "code",
   "execution_count": 1,
   "metadata": {},
   "outputs": [],
   "source": [
    "import numpy as np\n",
    "from numpy import random as rd\n",
    "import matplotlib as plt\n",
    "np.random.seed(0)"
   ]
  },
  {
   "cell_type": "markdown",
   "metadata": {},
   "source": [
    "First, we define the `convert_list_to_bitstring()` and `decode_string()` functions to convert a binary list to bitstring and decode the bitstring to corresponding positive integer"
   ]
  },
  {
   "cell_type": "code",
   "execution_count": 2,
   "metadata": {},
   "outputs": [],
   "source": [
    "def convert_list_bitstring(x: list):\n",
    "    s = ''.join(str(b) for b in x)\n",
    "    return s"
   ]
  },
  {
   "cell_type": "code",
   "execution_count": 3,
   "metadata": {},
   "outputs": [],
   "source": [
    "def decode_string(x: str):\n",
    "    d = int(x, 2)\n",
    "    return d"
   ]
  },
  {
   "cell_type": "markdown",
   "metadata": {},
   "source": [
    "Given we have implemented the Genetic Algorithm to maximize fitness function $Y$. So we define `fitness()` function that take a bitstring as input, decode it back to integer and return the corresponding value following the $Y$ formula."
   ]
  },
  {
   "cell_type": "code",
   "execution_count": 4,
   "metadata": {},
   "outputs": [],
   "source": [
    "def fitness(x: str):\n",
    "    # decode bitstring back to integer\n",
    "    x_decoded = decode_string(x)\n",
    "    # compute the fitness function\n",
    "    y = 15 * x_decoded - x_decoded ** 2\n",
    "    return y"
   ]
  },
  {
   "cell_type": "markdown",
   "metadata": {},
   "source": [
    "Now, we implement the `roulette_selection()` function that using Roulette wheel selection algorithm. The function will take the population `pop`, corresponding fitness values `scores` and the size of matting pool `n` as inputs and then return the matting pool that contains individuals used to reproduction. In this case, the size of matting pool with be equal to the population size."
   ]
  },
  {
   "cell_type": "code",
   "execution_count": 5,
   "metadata": {},
   "outputs": [],
   "source": [
    "def roulette_selection(pop: list, scores: str, n: int):\n",
    "    # compute the sum of fitness\n",
    "    fitness_total = float(sum(scores))\n",
    "    # compute probability of fitness\n",
    "    fitness_prob = [f / fitness_total for f in scores]\n",
    "    # compute cumulative probability of fitness\n",
    "    fitness_cum_prob = [sum(fitness_prob[: i + 1]) for i in range(len(fitness_prob))]\n",
    "    # list of selected parents\n",
    "    pop_selected = []\n",
    "    for _ in range(n):\n",
    "        r = rd.uniform()\n",
    "        for i, p in enumerate(pop):\n",
    "            if r <= fitness_cum_prob[i]:\n",
    "                pop_selected.append(p)\n",
    "                break\n",
    "    return pop_selected"
   ]
  },
  {
   "cell_type": "markdown",
   "metadata": {},
   "source": [
    "Now, we implement one point crossover. This `crossover()` function will take two parents and the crossover rate. The crossover rate is a hyperparameter that determines whether crossover is performed or not, and if not, the parents are copied into the next generation."
   ]
  },
  {
   "cell_type": "code",
   "execution_count": 6,
   "metadata": {},
   "outputs": [],
   "source": [
    "def crossover(p1: list, p2: list, pc: float):\n",
    "    # children are copies of parents by default\n",
    "    c1, c2 = p1, p2\n",
    "    # check for recombination\n",
    "    if rd.rand() < pc:\n",
    "        # select crossover point that is not on the end of the string\n",
    "        pt = rd.randint(1, len(p1)-2)\n",
    "        # perform crossover\n",
    "        c1 = p1[:pt] + p2[pt:]\n",
    "        c2 = p2[:pt] + p1[pt:]\n",
    "    return c1, c2"
   ]
  },
  {
   "cell_type": "markdown",
   "metadata": {},
   "source": [
    "The `mutation()` function flips bits with low probability `pm`."
   ]
  },
  {
   "cell_type": "code",
   "execution_count": 7,
   "metadata": {},
   "outputs": [],
   "source": [
    "def mutation(x: str, pm: float):\n",
    "    for i in range(len(x)):\n",
    "        # check for a mutation\n",
    "        if rd.rand() < pm:\n",
    "            # flip the bit\n",
    "            x = x[: i] + str(1 - int(x[i])) + x[i + 1:]"
   ]
  },
  {
   "cell_type": "markdown",
   "metadata": {},
   "source": [
    "After that, we can tie all of this together into a function named `genetic_algorithm()` that takes the name of the objective function and the hyperparameters of the search, and returns the best solution found during the search."
   ]
  },
  {
   "cell_type": "code",
   "execution_count": 8,
   "metadata": {},
   "outputs": [],
   "source": [
    "def genetic_algorithm(fitness_func: callable, n_bits: int, n_iters: int, n_pop: int, pc: float, pm: float):\n",
    "    # initial population of random bitstring\n",
    "    pop = [convert_list_bitstring(rd.randint(0, 2, n_bits).tolist()) for _ in range(n_pop)]\n",
    "    # keep track of best solution\n",
    "    best, best_eval = pop[0], fitness_func(pop[0])\n",
    "    # enumerate generations\n",
    "    for gen in range(n_iters):\n",
    "        # evaluate all candidates in the population\n",
    "        scores = [fitness_func(c) for c in pop]\n",
    "        # check for new best solution\n",
    "        for i in range(n_pop):\n",
    "            if scores[i] > best_eval:\n",
    "                best, best_eval = pop[i], scores[i]\n",
    "                print(\">%d, new best f(%s) = %.3f\" % (gen,  pop[i], scores[i]))\n",
    "        # select parents\n",
    "        selected = roulette_selection(pop, scores, n_pop)\n",
    "        # create the next generation\n",
    "        children = []\n",
    "        for i in range(0, n_pop, 2):\n",
    "            # get selected parents in pairs\n",
    "            p1, p2 = selected[i], selected[i + 1]\n",
    "            # crossover and mutation\n",
    "            for c in crossover(p1, p2, pc):\n",
    "                # mutation\n",
    "                mutation(c, pm)\n",
    "                # store for next generation\n",
    "                children.append(c)\n",
    "        # replace old population with new one that having high scores\n",
    "        pop = children\n",
    "    return best, best_eval"
   ]
  },
  {
   "cell_type": "markdown",
   "metadata": {},
   "source": [
    "Now, we create an initial population using binary representation. Due to $x \\in [0, 15] \\in \\mathbb{R}$, the length of bit string is chosen as $4$. Therefore, our population is basically a set of random bit string. For the ease of understanding we are taking $5$ generations and $6$ solutions per population. We will use a crossover rate of $0.7$ and a mutation rate of $0.001$."
   ]
  },
  {
   "cell_type": "code",
   "execution_count": 9,
   "metadata": {},
   "outputs": [],
   "source": [
    "# define the length of bit string\n",
    "n_bits = 4\n",
    "# define number of generations for finding the solution\n",
    "n_iters = 5\n",
    "# define the polulation size\n",
    "n_pop = 6\n",
    "# define crossover rate\n",
    "pc = 0.7\n",
    "# define mutation rate\n",
    "pm = 0.001"
   ]
  },
  {
   "cell_type": "code",
   "execution_count": 10,
   "metadata": {},
   "outputs": [
    {
     "name": "stdout",
     "output_type": "stream",
     "text": [
      "Done!\n",
      "bistring: 0110, decoded integer: 6, f(6) = 54\n"
     ]
    }
   ],
   "source": [
    "# perform the genetic algorithm search\n",
    "best, score = genetic_algorithm(fitness, n_bits, n_iters, n_pop, pc, pm)\n",
    "print('Done!')\n",
    "print(f'bistring: {best}, decoded integer: {decode_string(best)}, f({decode_string(best)}) = {score}')"
   ]
  },
  {
   "cell_type": "markdown",
   "metadata": {},
   "source": [
    "Then we try with $50$ iterations and $8$ solutions per population with mutation rate of $0.01$ and crossover rate of $0.8$."
   ]
  },
  {
   "cell_type": "code",
   "execution_count": 11,
   "metadata": {},
   "outputs": [
    {
     "name": "stdout",
     "output_type": "stream",
     "text": [
      ">0, new best f(1101) = 26.000\n",
      ">0, new best f(0100) = 44.000\n",
      ">0, new best f(1010) = 50.000\n",
      ">0, new best f(0111) = 56.000\n",
      "Done!\n",
      "bistring: 0111, decoded integer: 7, f(7) = 56\n"
     ]
    }
   ],
   "source": [
    "# define number of generations for finding the solution\n",
    "n_iters = 50\n",
    "# define the polulation size\n",
    "n_pop = 8\n",
    "# define crossover rate\n",
    "pc = 0.8\n",
    "# define mutation rate\n",
    "pm = 0.01\n",
    "# perform the genetic algorithm search\n",
    "best, score = genetic_algorithm(fitness, n_bits, n_iters, n_pop, pc, pm)\n",
    "print('Done!')\n",
    "print(f'bistring: {best}, decoded integer: {decode_string(best)}, f({decode_string(best)}) = {score}')"
   ]
  }
 ],
 "metadata": {
  "kernelspec": {
   "display_name": "Python 3 (ipykernel)",
   "language": "python",
   "name": "python3"
  },
  "language_info": {
   "codemirror_mode": {
    "name": "ipython",
    "version": 3
   },
   "file_extension": ".py",
   "mimetype": "text/x-python",
   "name": "python",
   "nbconvert_exporter": "python",
   "pygments_lexer": "ipython3",
   "version": "3.9.7"
  }
 },
 "nbformat": 4,
 "nbformat_minor": 1
}